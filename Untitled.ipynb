{
 "cells": [
  {
   "cell_type": "markdown",
   "id": "ddfb6bb0",
   "metadata": {},
   "source": [
    "## Next things to do:\n",
    "\n",
    "### 1. Explore more closely the open_hours column. How to clean/standardize this? \n",
    "    -are the hours correct by time zone? \n",
    "    -idea: make 2 separate columns, one with open_hour and one with closed_hour \n",
    "    -don't need info for every day of week, just want to know the EARLIEST they open and LATEST they close\n",
    "    -how are stores that are open 24 hours represented? \n",
    "    -when stores are closed for whole day, how is that represented? \n",
    "    -do I need Regex for this? \n",
    "\n",
    "### 2. Latitude and Longitude Function \n",
    "    -read up on dealing with geolocation/lat and long in Python\n",
    "    -Jan: find a function that computes for each row, compare latitude and longitude to other rows\n",
    "    \n",
    "### 3. Change the \"country\" column initials to the full name of the country \n",
    "    -Not sure how important this is. Would make it easier for me to read, but maybe time consuming\n",
    "\n",
    "### 4. Find population data by city (2021)\n",
    "    -What city has the highest number of starbucks per capita? \n",
    "    \n",
    "### 5. More Exploratory Data Analysis \n",
    "    -features: city, country, lat,long, open hours "
   ]
  },
  {
   "cell_type": "code",
   "execution_count": null,
   "id": "3c91689e",
   "metadata": {},
   "outputs": [],
   "source": []
  }
 ],
 "metadata": {
  "kernelspec": {
   "display_name": "Python 3 (ipykernel)",
   "language": "python",
   "name": "python3"
  },
  "language_info": {
   "codemirror_mode": {
    "name": "ipython",
    "version": 3
   },
   "file_extension": ".py",
   "mimetype": "text/x-python",
   "name": "python",
   "nbconvert_exporter": "python",
   "pygments_lexer": "ipython3",
   "version": "3.9.12"
  }
 },
 "nbformat": 4,
 "nbformat_minor": 5
}
